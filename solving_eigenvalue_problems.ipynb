{
 "cells": [
  {
   "cell_type": "markdown",
   "metadata": {},
   "source": [
    "# Eigendecomposition (Diagonalization) Problems"
   ]
  },
  {
   "cell_type": "code",
   "execution_count": 1,
   "metadata": {},
   "outputs": [],
   "source": [
    "import numpy as np"
   ]
  },
  {
   "cell_type": "markdown",
   "metadata": {},
   "source": [
    "## Learning Objective\n",
    "\n",
    "- solve eigenvalue problems"
   ]
  },
  {
   "cell_type": "markdown",
   "metadata": {},
   "source": [
    "## Setup"
   ]
  },
  {
   "cell_type": "markdown",
   "metadata": {},
   "source": [
    "Suppose we're given the matrix $\\begin{bmatrix}1&3\\\\4&5\\end{bmatrix}$ and told to find its eigendecomposition, i.e. its eigenvalues and eigenvectors.\n",
    "\n",
    "The first step is to find the eigenvalues. Then we'll use those eigenvalues to find the eigenvectors.\n",
    "\n",
    "At the very end we'll use NumPy to check our work."
   ]
  },
  {
   "cell_type": "markdown",
   "metadata": {},
   "source": [
    "## Find the Eigenvalues"
   ]
  },
  {
   "cell_type": "markdown",
   "metadata": {},
   "source": [
    "Eigenvalues and eigenvectors satisfy the following equation:\n",
    "\n",
    "$A\\vec{x} = \\lambda\\vec{x}$.\n",
    "\n",
    "We can rewrite this as $(A-\\lambda I)\\vec{x} = 0$, so that we then have:\n",
    "\n",
    "$\\begin{equation}\n",
    "\\begin{bmatrix}\n",
    "1-\\lambda & 3 \\\\\n",
    "4 & 5-\\lambda\n",
    "\\end{bmatrix}\\vec{x} = 0\\end{equation}$"
   ]
  },
  {
   "cell_type": "markdown",
   "metadata": {},
   "source": [
    "This has a non-trivial solution only when the determinant of this matrix is 0. To find the determinant of a 2x2 matrix $\\begin{bmatrix}a&b\\\\c&d\\end{bmatrix}$, we're going to calculate $ad-bc$:"
   ]
  },
  {
   "cell_type": "markdown",
   "metadata": {},
   "source": [
    "$det(A-\\lambda I) = (1-\\lambda)(5-\\lambda) - (3)(4) = 0$"
   ]
  },
  {
   "cell_type": "markdown",
   "metadata": {},
   "source": [
    "Simplifying:\n",
    "\n",
    "$5-6\\lambda+\\lambda^2-12=0$, or <br/>\n",
    "$\\lambda^2-6\\lambda-7=0$.\n",
    "\n",
    "This is a quadratic equation in the variable $\\lambda$, which we can factor as follows:\n",
    "\n",
    "$(\\lambda-7)(\\lambda+1)=0$.\n",
    "\n",
    "Clearly, the two solutions here are $\\large\\lambda=-1$ and $\\large\\lambda=7$, so those are our eigenvalues."
   ]
  },
  {
   "cell_type": "markdown",
   "metadata": {},
   "source": [
    "## Find the Eigenvectors"
   ]
  },
  {
   "cell_type": "markdown",
   "metadata": {},
   "source": [
    "Now that we have our eigenvalues we can find the matrix's eigenvectors by simply plugging them into our equation:\n",
    "\n",
    "Since $\\lambda=-1$ and $\\lambda=7$, we can write:\n",
    "\n",
    "\n",
    "($\\ast$) $\\begin{bmatrix}1+1&3\\\\4&5+1\\end{bmatrix}\\begin{bmatrix}x_1\\\\x_2\\end{bmatrix} = 0$\n",
    "\n",
    "and\n",
    "\n",
    "($\\ast\\ast$) $\\begin{bmatrix}1-7&3\\\\4&5-7\\end{bmatrix}\\begin{bmatrix}x_1\\\\x_2\\end{bmatrix} = 0$."
   ]
  },
  {
   "cell_type": "markdown",
   "metadata": {},
   "source": [
    "Each of these equations yields an eigenvector!\n",
    "\n",
    "Thus, taking the first equation ($\\ast$), we have:\n",
    "\n",
    "$2x_1+3x_2=0$ and <br/> $4x_1+6x_2=0$.\n",
    "\n",
    "These two equations tell us the same thing, namely that $x_2=-\\frac{2}{3}x_1$. So, *any* vector where the second component is -$\\frac{2}{3}$ times the first will be an eigenvector of $A$. Typically, we want to choose the normalized vector, i.e. the eigenvector that has unit length, which will therefore satisfy the equation: $x_1^2+\\frac{4}{9}x_1^2=1$. It is therefore the vector $\\begin{bmatrix}\\frac{3}{\\sqrt{13}}\\\\ -\\frac{2}{\\sqrt{13}}\\end{bmatrix}$."
   ]
  },
  {
   "cell_type": "markdown",
   "metadata": {},
   "source": [
    "Taking the second equation ($\\ast\\ast$), we have:\n",
    "\n",
    "$-6x_1+3x_2=0$ and <br/> $4x_1-2x_2=0$.\n",
    "\n",
    "These two equations also tell us the same thing, namely that $x_2=2x_1$.\n",
    "\n",
    "The normalized eigenvector here satisfies the equation: $x_1^2+4x_1^2=1$. So our normalized eigenvector will be: $\\begin{bmatrix}\\frac{1}{\\sqrt{5}}\\\\ \\frac{2}{\\sqrt{5}}\\end{bmatrix}$."
   ]
  },
  {
   "cell_type": "markdown",
   "metadata": {},
   "source": [
    "## Using `numpy`"
   ]
  },
  {
   "cell_type": "markdown",
   "metadata": {},
   "source": [
    "Let's check our work with NumPy:"
   ]
  },
  {
   "cell_type": "code",
   "execution_count": 2,
   "metadata": {},
   "outputs": [
    {
     "data": {
      "text/plain": [
       "array([-1.,  7.])"
      ]
     },
     "execution_count": 2,
     "metadata": {},
     "output_type": "execute_result"
    }
   ],
   "source": [
    "A = np.array([[1, 3], [4, 5]])\n",
    "\n",
    "eigenvalues, eigenvectors = np.linalg.eig(A)\n",
    "\n",
    "eigenvalues"
   ]
  },
  {
   "cell_type": "code",
   "execution_count": 3,
   "metadata": {},
   "outputs": [
    {
     "data": {
      "text/plain": [
       "array([[-0.83205029, -0.4472136 ],\n",
       "       [ 0.5547002 , -0.89442719]])"
      ]
     },
     "execution_count": 3,
     "metadata": {},
     "output_type": "execute_result"
    }
   ],
   "source": [
    "eigenvectors"
   ]
  },
  {
   "cell_type": "code",
   "execution_count": 4,
   "metadata": {},
   "outputs": [
    {
     "data": {
      "text/plain": [
       "(0.8320502943378437, 0.4472135954999579)"
      ]
     },
     "execution_count": 4,
     "metadata": {},
     "output_type": "execute_result"
    }
   ],
   "source": [
    "3/np.sqrt(13), 1/np.sqrt(5)"
   ]
  },
  {
   "cell_type": "code",
   "execution_count": 5,
   "metadata": {},
   "outputs": [
    {
     "data": {
      "text/plain": [
       "(-0.5547001962252291, 0.8944271909999159)"
      ]
     },
     "execution_count": 5,
     "metadata": {},
     "output_type": "execute_result"
    }
   ],
   "source": [
    "-2/np.sqrt(13), 2/np.sqrt(5)"
   ]
  },
  {
   "cell_type": "markdown",
   "metadata": {},
   "source": [
    "## Wrapping Up"
   ]
  },
  {
   "cell_type": "markdown",
   "metadata": {},
   "source": [
    "The goal here was to illustrate how to solve an eigenvalue problem. Hope this helps!"
   ]
  }
 ],
 "metadata": {
  "kernelspec": {
   "display_name": "Python 3",
   "language": "python",
   "name": "python3"
  },
  "language_info": {
   "codemirror_mode": {
    "name": "ipython",
    "version": 3
   },
   "file_extension": ".py",
   "mimetype": "text/x-python",
   "name": "python",
   "nbconvert_exporter": "python",
   "pygments_lexer": "ipython3",
   "version": "3.7.2"
  }
 },
 "nbformat": 4,
 "nbformat_minor": 4
}
