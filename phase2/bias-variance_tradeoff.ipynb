{
 "cells": [
  {
   "cell_type": "markdown",
   "metadata": {
    "slideshow": {
     "slide_type": "slide"
    }
   },
   "source": [
    "# Bias-Variance Tradeoff"
   ]
  },
  {
   "cell_type": "code",
   "execution_count": 1,
   "metadata": {
    "slideshow": {
     "slide_type": "fragment"
    }
   },
   "outputs": [],
   "source": [
    "from seaborn import load_dataset\n",
    "from sklearn.linear_model import LinearRegression\n",
    "from sklearn.model_selection import train_test_split\n",
    "from sklearn.metrics import mean_squared_error\n",
    "import numpy as np\n",
    "from sklearn.preprocessing import PolynomialFeatures"
   ]
  },
  {
   "cell_type": "code",
   "execution_count": 2,
   "metadata": {
    "slideshow": {
     "slide_type": "slide"
    }
   },
   "outputs": [
    {
     "data": {
      "text/html": [
       "<div>\n",
       "<style scoped>\n",
       "    .dataframe tbody tr th:only-of-type {\n",
       "        vertical-align: middle;\n",
       "    }\n",
       "\n",
       "    .dataframe tbody tr th {\n",
       "        vertical-align: top;\n",
       "    }\n",
       "\n",
       "    .dataframe thead th {\n",
       "        text-align: right;\n",
       "    }\n",
       "</style>\n",
       "<table border=\"1\" class=\"dataframe\">\n",
       "  <thead>\n",
       "    <tr style=\"text-align: right;\">\n",
       "      <th></th>\n",
       "      <th>mpg</th>\n",
       "      <th>cylinders</th>\n",
       "      <th>displacement</th>\n",
       "      <th>horsepower</th>\n",
       "      <th>weight</th>\n",
       "      <th>acceleration</th>\n",
       "      <th>model_year</th>\n",
       "    </tr>\n",
       "  </thead>\n",
       "  <tbody>\n",
       "    <tr>\n",
       "      <th>0</th>\n",
       "      <td>18.0</td>\n",
       "      <td>8</td>\n",
       "      <td>307.0</td>\n",
       "      <td>130.0</td>\n",
       "      <td>3504</td>\n",
       "      <td>12.0</td>\n",
       "      <td>70</td>\n",
       "    </tr>\n",
       "    <tr>\n",
       "      <th>1</th>\n",
       "      <td>15.0</td>\n",
       "      <td>8</td>\n",
       "      <td>350.0</td>\n",
       "      <td>165.0</td>\n",
       "      <td>3693</td>\n",
       "      <td>11.5</td>\n",
       "      <td>70</td>\n",
       "    </tr>\n",
       "    <tr>\n",
       "      <th>2</th>\n",
       "      <td>18.0</td>\n",
       "      <td>8</td>\n",
       "      <td>318.0</td>\n",
       "      <td>150.0</td>\n",
       "      <td>3436</td>\n",
       "      <td>11.0</td>\n",
       "      <td>70</td>\n",
       "    </tr>\n",
       "    <tr>\n",
       "      <th>3</th>\n",
       "      <td>16.0</td>\n",
       "      <td>8</td>\n",
       "      <td>304.0</td>\n",
       "      <td>150.0</td>\n",
       "      <td>3433</td>\n",
       "      <td>12.0</td>\n",
       "      <td>70</td>\n",
       "    </tr>\n",
       "    <tr>\n",
       "      <th>4</th>\n",
       "      <td>17.0</td>\n",
       "      <td>8</td>\n",
       "      <td>302.0</td>\n",
       "      <td>140.0</td>\n",
       "      <td>3449</td>\n",
       "      <td>10.5</td>\n",
       "      <td>70</td>\n",
       "    </tr>\n",
       "  </tbody>\n",
       "</table>\n",
       "</div>"
      ],
      "text/plain": [
       "    mpg  cylinders  displacement  horsepower  weight  acceleration  model_year\n",
       "0  18.0          8         307.0       130.0    3504          12.0          70\n",
       "1  15.0          8         350.0       165.0    3693          11.5          70\n",
       "2  18.0          8         318.0       150.0    3436          11.0          70\n",
       "3  16.0          8         304.0       150.0    3433          12.0          70\n",
       "4  17.0          8         302.0       140.0    3449          10.5          70"
      ]
     },
     "execution_count": 2,
     "metadata": {},
     "output_type": "execute_result"
    }
   ],
   "source": [
    "cars = load_dataset('mpg',\n",
    "                    usecols=['mpg', 'cylinders',\n",
    "                            'displacement', 'horsepower',\n",
    "                            'weight', 'acceleration',\n",
    "                            'model_year']).dropna()\n",
    "cars.head()"
   ]
  },
  {
   "cell_type": "code",
   "execution_count": 3,
   "metadata": {
    "slideshow": {
     "slide_type": "fragment"
    }
   },
   "outputs": [],
   "source": [
    "X = cars.drop('mpg', axis=1)\n",
    "y = cars['mpg']"
   ]
  },
  {
   "cell_type": "code",
   "execution_count": 4,
   "metadata": {
    "slideshow": {
     "slide_type": "slide"
    }
   },
   "outputs": [
    {
     "name": "stdout",
     "output_type": "stream",
     "text": [
      "59.82252839094822 2.4737817631407633\n",
      "63.828271275857276 7.780758423478221\n"
     ]
    }
   ],
   "source": [
    "train_mses = []\n",
    "val_mses = []\n",
    "for rs in range(10):\n",
    "    X_train, X_val, y_train, y_val =\\\n",
    "    train_test_split(X, y, random_state=rs)\n",
    "\n",
    "    tr_preds = (y_train.mean() * np.ones(len(y_train))).reshape(-1, 1)\n",
    "    train_mses.append(mean_squared_error(tr_preds,\n",
    "                                         y_train))\n",
    "    val_preds = (y_train.mean() * np.ones(len(y_val))).reshape(-1, 1)\n",
    "    val_mses.append(mean_squared_error(val_preds,\n",
    "                                       y_val))\n",
    "\n",
    "print(np.mean(train_mses), np.std(train_mses))\n",
    "print(np.mean(val_mses), np.std(val_mses))"
   ]
  },
  {
   "cell_type": "markdown",
   "metadata": {
    "slideshow": {
     "slide_type": "slide"
    }
   },
   "source": [
    "## Make More Complex"
   ]
  },
  {
   "cell_type": "code",
   "execution_count": 6,
   "metadata": {
    "slideshow": {
     "slide_type": "slide"
    }
   },
   "outputs": [
    {
     "name": "stdout",
     "output_type": "stream",
     "text": [
      "8.321460244462207 7.470903663218962\n",
      "199.42920069914632 461.31811498621653\n"
     ]
    }
   ],
   "source": [
    "train_mses = []\n",
    "val_mses = []\n",
    "for rs in range(10):\n",
    "    X_train, X_val, y_train, y_val =\\\n",
    "    train_test_split(X, y, random_state=rs)\n",
    "\n",
    "    poly = PolynomialFeatures(degree=3).fit(X_train)\n",
    "    poly_tr = poly.transform(X_train)\n",
    "    poly_val = poly.transform(X_val)\n",
    "    lr = LinearRegression().fit(poly_tr, y_train)\n",
    "    train_mses.append(mean_squared_error(lr.predict(poly_tr), y_train))\n",
    "    val_mses.append(mean_squared_error(lr.predict(poly_val), y_val))\n",
    "\n",
    "print(np.mean(train_mses), np.std(train_mses))\n",
    "print(np.mean(val_mses), np.std(val_mses))"
   ]
  },
  {
   "cell_type": "markdown",
   "metadata": {
    "slideshow": {
     "slide_type": "slide"
    }
   },
   "source": [
    "## Find the Sweet Spot"
   ]
  },
  {
   "cell_type": "code",
   "execution_count": 7,
   "metadata": {
    "slideshow": {
     "slide_type": "slide"
    }
   },
   "outputs": [
    {
     "name": "stdout",
     "output_type": "stream",
     "text": [
      "11.371483613451371 0.5859715309118807\n",
      "12.668170106939984 1.8246927129692667\n"
     ]
    }
   ],
   "source": [
    "train_mses = []\n",
    "val_mses = []\n",
    "for rs in range(10):\n",
    "    X_train, X_val, y_train, y_val =\\\n",
    "    train_test_split(X, y, random_state=rs)\n",
    "    \n",
    "    lr = LinearRegression().fit(X_train, y_train)\n",
    "    train_mses.append(mean_squared_error(lr.predict(X_train), y_train))\n",
    "    val_mses.append(mean_squared_error(lr.predict(X_val), y_val))\n",
    "\n",
    "print(np.mean(train_mses), np.std(train_mses))\n",
    "print(np.mean(val_mses), np.std(val_mses))"
   ]
  }
 ],
 "metadata": {
  "celltoolbar": "Slideshow",
  "kernelspec": {
   "display_name": "Python 3",
   "language": "python",
   "name": "python3"
  },
  "language_info": {
   "codemirror_mode": {
    "name": "ipython",
    "version": 3
   },
   "file_extension": ".py",
   "mimetype": "text/x-python",
   "name": "python",
   "nbconvert_exporter": "python",
   "pygments_lexer": "ipython3",
   "version": "3.7.2"
  }
 },
 "nbformat": 4,
 "nbformat_minor": 4
}
