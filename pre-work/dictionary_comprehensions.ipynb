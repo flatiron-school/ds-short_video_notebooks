{
 "cells": [
  {
   "cell_type": "markdown",
   "metadata": {
    "slideshow": {
     "slide_type": "slide"
    }
   },
   "source": [
    "# On Dictionary Comprehensions"
   ]
  },
  {
   "cell_type": "markdown",
   "metadata": {
    "slideshow": {
     "slide_type": "fragment"
    }
   },
   "source": [
    "In Python you can construct a new dictionary following an analogue of the syntax for list comprehensions."
   ]
  },
  {
   "cell_type": "markdown",
   "metadata": {
    "slideshow": {
     "slide_type": "slide"
    }
   },
   "source": [
    "There are lots of possibilities here. But here is a simple example:\n",
    "\n",
    "Suppose I have a list of doubles (2-tuples), and I want to build a dictionary with the first members of the doubles as values and the second members as keys. I could use a dictionary comprehension to do it:"
   ]
  },
  {
   "cell_type": "code",
   "execution_count": 1,
   "metadata": {
    "slideshow": {
     "slide_type": "fragment"
    }
   },
   "outputs": [
    {
     "data": {
      "text/plain": [
       "{'a': 1, 'b': 2, 'c': 3}"
      ]
     },
     "execution_count": 1,
     "metadata": {},
     "output_type": "execute_result"
    }
   ],
   "source": [
    "doubles = [(1, 'a'), (2, 'b'), (3, 'c')]\n",
    "\n",
    "new_dict = {k: v for v, k in doubles}\n",
    "\n",
    "new_dict"
   ]
  },
  {
   "cell_type": "markdown",
   "metadata": {
    "slideshow": {
     "slide_type": "slide"
    }
   },
   "source": [
    "Suppose I am building my dictionary from two different iterables, one for the keys and one for the values. (For simplicity we'll just use two lists.) If my iterables are aligned with each other then I can use `zip()` to grab corresponding pairs:"
   ]
  },
  {
   "cell_type": "code",
   "execution_count": 2,
   "metadata": {
    "slideshow": {
     "slide_type": "fragment"
    }
   },
   "outputs": [
    {
     "data": {
      "text/plain": [
       "{'Chu Charles': '(123) 555-7777',\n",
       " 'Tran Phuong': '+84 24 00000',\n",
       " 'Fujimoto Rafael': '(090) 001-0000'}"
      ]
     },
     "execution_count": 2,
     "metadata": {},
     "output_type": "execute_result"
    }
   ],
   "source": [
    "names = ['Chu Charles', 'Tran Phuong', 'Fujimoto Rafael']\n",
    "phone_nums = ['(123) 555-7777', '+84 24 00000', '(090) 001-0000']\n",
    "\n",
    "{name: phone_num for name, phone_num in zip(names, phone_nums)}"
   ]
  },
  {
   "cell_type": "markdown",
   "metadata": {
    "slideshow": {
     "slide_type": "slide"
    }
   },
   "source": [
    "As with list comprehensions I can pass the values of those iterables through some function before adding them to my new dictionary:"
   ]
  },
  {
   "cell_type": "code",
   "execution_count": 3,
   "metadata": {
    "slideshow": {
     "slide_type": "fragment"
    }
   },
   "outputs": [
    {
     "data": {
      "text/plain": [
       "{1400000: 'J'}"
      ]
     },
     "execution_count": 3,
     "metadata": {},
     "output_type": "execute_result"
    }
   ],
   "source": [
    "list1 = [1400621, 53000011, 40325]\n",
    "list2 = ['Japan', 'USA', 'Honduras']\n",
    "\n",
    "{round(a, -4): b[0] for (a, b) in zip(list1, list2) if a > 1e6 and b != 'USA'}"
   ]
  },
  {
   "cell_type": "markdown",
   "metadata": {
    "slideshow": {
     "slide_type": "slide"
    }
   },
   "source": [
    "Dictionary comprehensions are very powerful and flexible!"
   ]
  }
 ],
 "metadata": {
  "celltoolbar": "Slideshow",
  "kernelspec": {
   "display_name": "learn-env",
   "language": "python",
   "name": "learn-env"
  },
  "language_info": {
   "codemirror_mode": {
    "name": "ipython",
    "version": 3
   },
   "file_extension": ".py",
   "mimetype": "text/x-python",
   "name": "python",
   "nbconvert_exporter": "python",
   "pygments_lexer": "ipython3",
   "version": "3.8.5"
  }
 },
 "nbformat": 4,
 "nbformat_minor": 4
}
