{
 "cells": [
  {
   "cell_type": "markdown",
   "metadata": {
    "slideshow": {
     "slide_type": "slide"
    }
   },
   "source": [
    "# `while` Loops"
   ]
  },
  {
   "cell_type": "markdown",
   "metadata": {
    "slideshow": {
     "slide_type": "slide"
    }
   },
   "source": [
    "## Tasks for `for` Loops"
   ]
  },
  {
   "cell_type": "markdown",
   "metadata": {
    "slideshow": {
     "slide_type": "slide"
    }
   },
   "source": [
    "`for` Loops are great when you *know exactly how many times* you need to iterate some operation.\n",
    "\n",
    "And this is often the case: If I want to add a \"@google.com\" suffix to `prefixes`, my set of 1300 email prefixes that I've collected, then I'll probably write something like:\n",
    "\n",
    "<code>complete_emails = []\n",
    "for prefix in prefixes:\n",
    "    complete_emails.append(prefix + \"@google.com\")</code>"
   ]
  },
  {
   "cell_type": "markdown",
   "metadata": {
    "slideshow": {
     "slide_type": "slide"
    }
   },
   "source": [
    "or\n",
    "    \n",
    "<code>complete_emails = prefixes.copy()\n",
    "for num, prefix in enumerate(prefixes):\n",
    "    complete_emails[num] += \"@google.com\"</code>"
   ]
  },
  {
   "cell_type": "code",
   "execution_count": 1,
   "metadata": {
    "slideshow": {
     "slide_type": "slide"
    }
   },
   "outputs": [],
   "source": [
    "prefixes  =  [\"hank\", \"greg\", \"dfruch\"]\n",
    "\n",
    "complete_emails = prefixes.copy()\n",
    "for num, prefix in enumerate(prefixes):\n",
    "    complete_emails[num] += \"@google.com\""
   ]
  },
  {
   "cell_type": "code",
   "execution_count": 2,
   "metadata": {
    "slideshow": {
     "slide_type": "fragment"
    }
   },
   "outputs": [
    {
     "data": {
      "text/plain": [
       "['hank@google.com', 'greg@google.com', 'dfruch@google.com']"
      ]
     },
     "execution_count": 2,
     "metadata": {},
     "output_type": "execute_result"
    }
   ],
   "source": [
    "complete_emails"
   ]
  },
  {
   "cell_type": "markdown",
   "metadata": {
    "slideshow": {
     "slide_type": "slide"
    }
   },
   "source": [
    "## Unknown Iteration"
   ]
  },
  {
   "cell_type": "markdown",
   "metadata": {
    "slideshow": {
     "slide_type": "fragment"
    }
   },
   "source": [
    "But if I don't know how many times I'll need to iterate my operation, then I'll probably want to use a `while` loop.\n",
    "\n",
    "Consider the following problem: I want to strip away leading consonants from a word (if any). The input word may begin with no consonant (like \"artificial\"), with one consonant (like \"data\"), or with more consonants (like \"science\").\n",
    "\n",
    "Here's a way I can use a `while` loop to solve my problem:"
   ]
  },
  {
   "cell_type": "code",
   "execution_count": 3,
   "metadata": {
    "slideshow": {
     "slide_type": "slide"
    }
   },
   "outputs": [],
   "source": [
    "vowels = ['a', 'e', 'i', 'o', 'u']\n",
    "\n",
    "string = 'string'"
   ]
  },
  {
   "cell_type": "code",
   "execution_count": 4,
   "metadata": {
    "slideshow": {
     "slide_type": "fragment"
    }
   },
   "outputs": [
    {
     "data": {
      "text/plain": [
       "'ing'"
      ]
     },
     "execution_count": 4,
     "metadata": {},
     "output_type": "execute_result"
    }
   ],
   "source": [
    "while string[0] not in vowels:\n",
    "    string = string[1:]\n",
    "\n",
    "string"
   ]
  }
 ],
 "metadata": {
  "celltoolbar": "Slideshow",
  "kernelspec": {
   "display_name": "Python 3",
   "language": "python",
   "name": "python3"
  },
  "language_info": {
   "codemirror_mode": {
    "name": "ipython",
    "version": 3
   },
   "file_extension": ".py",
   "mimetype": "text/x-python",
   "name": "python",
   "nbconvert_exporter": "python",
   "pygments_lexer": "ipython3",
   "version": "3.7.2"
  }
 },
 "nbformat": 4,
 "nbformat_minor": 4
}
