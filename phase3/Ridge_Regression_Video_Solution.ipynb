{
 "cells": [
  {
   "cell_type": "code",
   "execution_count": 1,
   "id": "d287fb70",
   "metadata": {
    "ExecuteTime": {
     "end_time": "2021-12-06T22:09:51.489603Z",
     "start_time": "2021-12-06T22:09:49.620232Z"
    }
   },
   "outputs": [],
   "source": [
    "# Import dependencies for ridge regression\n",
    "import pandas as pd\n",
    "from sklearn.model_selection import train_test_split\n",
    "from sklearn.linear_model import Ridge, RidgeCV\n",
    "from sklearn.metrics import mean_squared_error\n",
    "from sklearn.model_selection import cross_validate"
   ]
  },
  {
   "cell_type": "code",
   "execution_count": 2,
   "id": "e1f2bf12",
   "metadata": {
    "ExecuteTime": {
     "end_time": "2021-12-06T22:09:58.254872Z",
     "start_time": "2021-12-06T22:09:56.287363Z"
    }
   },
   "outputs": [
    {
     "data": {
      "text/html": [
       "<div>\n",
       "<style scoped>\n",
       "    .dataframe tbody tr th:only-of-type {\n",
       "        vertical-align: middle;\n",
       "    }\n",
       "\n",
       "    .dataframe tbody tr th {\n",
       "        vertical-align: top;\n",
       "    }\n",
       "\n",
       "    .dataframe thead th {\n",
       "        text-align: right;\n",
       "    }\n",
       "</style>\n",
       "<table border=\"1\" class=\"dataframe\">\n",
       "  <thead>\n",
       "    <tr style=\"text-align: right;\">\n",
       "      <th></th>\n",
       "      <th>TotalValue</th>\n",
       "      <th>LotArea</th>\n",
       "      <th>NumFloors</th>\n",
       "      <th>UnitsTotal</th>\n",
       "      <th>LotFront</th>\n",
       "      <th>LotDepth</th>\n",
       "      <th>BldgFront</th>\n",
       "      <th>BldgDepth</th>\n",
       "      <th>BuiltFAR</th>\n",
       "      <th>ResidFAR</th>\n",
       "      <th>CommFAR</th>\n",
       "    </tr>\n",
       "  </thead>\n",
       "  <tbody>\n",
       "    <tr>\n",
       "      <th>0</th>\n",
       "      <td>327600.0</td>\n",
       "      <td>769</td>\n",
       "      <td>4.5</td>\n",
       "      <td>3</td>\n",
       "      <td>19.00</td>\n",
       "      <td>53.92</td>\n",
       "      <td>19.0</td>\n",
       "      <td>54.0</td>\n",
       "      <td>5.34</td>\n",
       "      <td>10.0</td>\n",
       "      <td>15.0</td>\n",
       "    </tr>\n",
       "    <tr>\n",
       "      <th>1</th>\n",
       "      <td>943650.0</td>\n",
       "      <td>1512</td>\n",
       "      <td>5.0</td>\n",
       "      <td>7</td>\n",
       "      <td>36.17</td>\n",
       "      <td>46.67</td>\n",
       "      <td>36.0</td>\n",
       "      <td>44.0</td>\n",
       "      <td>4.94</td>\n",
       "      <td>10.0</td>\n",
       "      <td>15.0</td>\n",
       "    </tr>\n",
       "    <tr>\n",
       "      <th>2</th>\n",
       "      <td>897300.0</td>\n",
       "      <td>2180</td>\n",
       "      <td>3.0</td>\n",
       "      <td>3</td>\n",
       "      <td>34.92</td>\n",
       "      <td>69.75</td>\n",
       "      <td>34.0</td>\n",
       "      <td>69.0</td>\n",
       "      <td>2.81</td>\n",
       "      <td>10.0</td>\n",
       "      <td>15.0</td>\n",
       "    </tr>\n",
       "    <tr>\n",
       "      <th>3</th>\n",
       "      <td>914400.0</td>\n",
       "      <td>2275</td>\n",
       "      <td>4.0</td>\n",
       "      <td>3</td>\n",
       "      <td>42.17</td>\n",
       "      <td>55.25</td>\n",
       "      <td>41.0</td>\n",
       "      <td>63.0</td>\n",
       "      <td>3.57</td>\n",
       "      <td>10.0</td>\n",
       "      <td>15.0</td>\n",
       "    </tr>\n",
       "    <tr>\n",
       "      <th>4</th>\n",
       "      <td>927900.0</td>\n",
       "      <td>1885</td>\n",
       "      <td>5.5</td>\n",
       "      <td>2</td>\n",
       "      <td>29.00</td>\n",
       "      <td>66.92</td>\n",
       "      <td>29.0</td>\n",
       "      <td>66.0</td>\n",
       "      <td>4.90</td>\n",
       "      <td>10.0</td>\n",
       "      <td>15.0</td>\n",
       "    </tr>\n",
       "  </tbody>\n",
       "</table>\n",
       "</div>"
      ],
      "text/plain": [
       "   TotalValue  LotArea  NumFloors  UnitsTotal  LotFront  LotDepth  BldgFront  \\\n",
       "0    327600.0      769        4.5           3     19.00     53.92       19.0   \n",
       "1    943650.0     1512        5.0           7     36.17     46.67       36.0   \n",
       "2    897300.0     2180        3.0           3     34.92     69.75       34.0   \n",
       "3    914400.0     2275        4.0           3     42.17     55.25       41.0   \n",
       "4    927900.0     1885        5.5           2     29.00     66.92       29.0   \n",
       "\n",
       "   BldgDepth  BuiltFAR  ResidFAR  CommFAR  \n",
       "0       54.0      5.34      10.0     15.0  \n",
       "1       44.0      4.94      10.0     15.0  \n",
       "2       69.0      2.81      10.0     15.0  \n",
       "3       63.0      3.57      10.0     15.0  \n",
       "4       66.0      4.90      10.0     15.0  "
      ]
     },
     "execution_count": 2,
     "metadata": {},
     "output_type": "execute_result"
    }
   ],
   "source": [
    "# Loading data from the web into pd dataframe\n",
    "path = 'https://jaredlander.com/data/manhattan_Train.csv'\n",
    "manhattan = pd.read_csv(path)\n",
    "manhattan = manhattan[['TotalValue', 'LotArea', 'NumFloors', 'UnitsTotal',\n",
    "                       'LotFront', 'LotDepth', 'BldgFront', 'BldgDepth',\n",
    "                       'BuiltFAR', 'ResidFAR', \"CommFAR\"]]\n",
    "manhattan.head()"
   ]
  },
  {
   "cell_type": "code",
   "execution_count": 3,
   "id": "6cffee49",
   "metadata": {
    "ExecuteTime": {
     "end_time": "2021-12-06T22:10:22.329004Z",
     "start_time": "2021-12-06T22:10:22.318859Z"
    }
   },
   "outputs": [],
   "source": [
    "# Test-Train Splite\n",
    "X_train, X_test, y_train, y_test = train_test_split(\n",
    "                                        manhattan.drop('TotalValue', axis=1),\n",
    "                                        manhattan['TotalValue'],\n",
    "                                        random_state=28\n",
    ")"
   ]
  },
  {
   "cell_type": "code",
   "execution_count": 4,
   "id": "1f292378",
   "metadata": {
    "ExecuteTime": {
     "end_time": "2021-12-06T22:12:00.073865Z",
     "start_time": "2021-12-06T22:12:00.071183Z"
    }
   },
   "outputs": [],
   "source": [
    "# Create the ridge regression object\n",
    "ridge = Ridge(alpha=100,\n",
    "             max_iter=600,\n",
    "             tol=1e-5,\n",
    "             random_state=700)"
   ]
  },
  {
   "cell_type": "code",
   "execution_count": 5,
   "id": "4a20e8e9",
   "metadata": {
    "ExecuteTime": {
     "end_time": "2021-12-06T22:12:14.634230Z",
     "start_time": "2021-12-06T22:12:14.618364Z"
    }
   },
   "outputs": [
    {
     "data": {
      "text/plain": [
       "Ridge(alpha=100, max_iter=600, random_state=700, tol=1e-05)"
      ]
     },
     "execution_count": 5,
     "metadata": {},
     "output_type": "execute_result"
    }
   ],
   "source": [
    "# Fit the data to the model object\n",
    "ridge.fit(X_train, y_train)"
   ]
  },
  {
   "cell_type": "code",
   "execution_count": 8,
   "id": "4fd543f0",
   "metadata": {
    "ExecuteTime": {
     "end_time": "2021-12-06T22:13:40.234883Z",
     "start_time": "2021-12-06T22:13:40.229675Z"
    }
   },
   "outputs": [],
   "source": [
    "# Predict with the training data\n",
    "y_hat = ridge.predict(X_train)"
   ]
  },
  {
   "cell_type": "code",
   "execution_count": 6,
   "id": "44ea4860",
   "metadata": {
    "ExecuteTime": {
     "end_time": "2021-12-06T22:12:57.653350Z",
     "start_time": "2021-12-06T22:12:57.646402Z"
    }
   },
   "outputs": [
    {
     "data": {
      "text/plain": [
       "0.6085007741100154"
      ]
     },
     "execution_count": 6,
     "metadata": {},
     "output_type": "execute_result"
    }
   ],
   "source": [
    "# Calculate the goodness of fit of the model, R^2\n",
    "ridge.score(X_train, y_train)"
   ]
  },
  {
   "cell_type": "code",
   "execution_count": 9,
   "id": "31dc8cb4",
   "metadata": {
    "ExecuteTime": {
     "end_time": "2021-12-06T22:13:42.731822Z",
     "start_time": "2021-12-06T22:13:42.726858Z"
    }
   },
   "outputs": [
    {
     "data": {
      "text/plain": [
       "4002037864607.81"
      ]
     },
     "execution_count": 9,
     "metadata": {},
     "output_type": "execute_result"
    }
   ],
   "source": [
    "# Calculate the mean squared error of the model\n",
    "mean_squared_error(y_train, y_hat)"
   ]
  },
  {
   "cell_type": "code",
   "execution_count": 10,
   "id": "1384a984",
   "metadata": {
    "ExecuteTime": {
     "end_time": "2021-12-06T22:15:42.738794Z",
     "start_time": "2021-12-06T22:15:42.617857Z"
    }
   },
   "outputs": [],
   "source": [
    "# Calculate the cross-validation R^2 and mae\n",
    "cv = cross_validate(estimator=ridge, X=X_train, y=y_train, cv=10,\n",
    "                   scoring=('r2', 'neg_mean_absolute_error'),\n",
    "                   return_train_score=True)"
   ]
  },
  {
   "cell_type": "code",
   "execution_count": 12,
   "id": "61cc6e06",
   "metadata": {
    "ExecuteTime": {
     "end_time": "2021-12-06T22:16:25.354959Z",
     "start_time": "2021-12-06T22:16:25.351306Z"
    }
   },
   "outputs": [
    {
     "data": {
      "text/plain": [
       "array([-1090296.41898035, -1092529.53886564, -1092166.23738617,\n",
       "       -1084614.73305327, -1086986.47629155, -1084696.5716497 ,\n",
       "       -1107043.19397628, -1091515.74298786, -1073657.04768024,\n",
       "       -1104164.32805818])"
      ]
     },
     "execution_count": 12,
     "metadata": {},
     "output_type": "execute_result"
    }
   ],
   "source": [
    "# Check the CV train mae\n",
    "cv['train_neg_mean_absolute_error']"
   ]
  },
  {
   "cell_type": "code",
   "execution_count": 13,
   "id": "45246c24",
   "metadata": {
    "ExecuteTime": {
     "end_time": "2021-12-06T22:16:51.325269Z",
     "start_time": "2021-12-06T22:16:51.321342Z"
    }
   },
   "outputs": [
    {
     "data": {
      "text/plain": [
       "array([-1067422.62022572, -1067951.37678406, -1108239.32681711,\n",
       "       -1122796.52312031, -1096489.21602482, -1134588.67991004,\n",
       "       -1133740.81953848, -1070263.79949657, -1138389.75553896,\n",
       "       -1036599.56264995])"
      ]
     },
     "execution_count": 13,
     "metadata": {},
     "output_type": "execute_result"
    }
   ],
   "source": [
    "# Check the CV test mae\n",
    "cv['test_neg_mean_absolute_error']"
   ]
  },
  {
   "cell_type": "code",
   "execution_count": 14,
   "id": "1ca76aec",
   "metadata": {
    "ExecuteTime": {
     "end_time": "2021-12-06T22:18:21.540352Z",
     "start_time": "2021-12-06T22:18:21.538202Z"
    }
   },
   "outputs": [],
   "source": [
    "# Create the regularized regression with cross-validation\n",
    "ridge_cv = RidgeCV(alphas=(0.001, 0.01, 0.1), cv=10)"
   ]
  },
  {
   "cell_type": "code",
   "execution_count": 15,
   "id": "565ac169",
   "metadata": {
    "ExecuteTime": {
     "end_time": "2021-12-06T22:18:38.763428Z",
     "start_time": "2021-12-06T22:18:38.545647Z"
    }
   },
   "outputs": [
    {
     "data": {
      "text/plain": [
       "RidgeCV(alphas=array([0.001, 0.01 , 0.1  ]), cv=10)"
      ]
     },
     "execution_count": 15,
     "metadata": {},
     "output_type": "execute_result"
    }
   ],
   "source": [
    "# Fit the training the data with the model\n",
    "ridge_cv.fit(X_train, y_train)"
   ]
  },
  {
   "cell_type": "code",
   "execution_count": 16,
   "id": "2dc1410e",
   "metadata": {
    "ExecuteTime": {
     "end_time": "2021-12-06T22:19:05.444608Z",
     "start_time": "2021-12-06T22:19:05.437369Z"
    }
   },
   "outputs": [
    {
     "data": {
      "text/plain": [
       "0.6085007985407218"
      ]
     },
     "execution_count": 16,
     "metadata": {},
     "output_type": "execute_result"
    }
   ],
   "source": [
    "# Calculate the goodness of fit of the model, R^2\n",
    "ridge_cv.score(X_train, y_train)"
   ]
  },
  {
   "cell_type": "code",
   "execution_count": 17,
   "id": "e2f9e9d2",
   "metadata": {
    "ExecuteTime": {
     "end_time": "2021-12-06T22:19:52.247687Z",
     "start_time": "2021-12-06T22:19:52.240489Z"
    }
   },
   "outputs": [
    {
     "data": {
      "text/plain": [
       "4002037614868.8438"
      ]
     },
     "execution_count": 17,
     "metadata": {},
     "output_type": "execute_result"
    }
   ],
   "source": [
    "# Calculate the mean squared error of the model\n",
    "mean_squared_error(y_train, ridge_cv.predict(X_train))"
   ]
  },
  {
   "cell_type": "code",
   "execution_count": null,
   "id": "de46713a",
   "metadata": {},
   "outputs": [],
   "source": []
  }
 ],
 "metadata": {
  "hide_input": false,
  "kernelspec": {
   "display_name": "Python 3",
   "language": "python",
   "name": "python3"
  },
  "language_info": {
   "codemirror_mode": {
    "name": "ipython",
    "version": 3
   },
   "file_extension": ".py",
   "mimetype": "text/x-python",
   "name": "python",
   "nbconvert_exporter": "python",
   "pygments_lexer": "ipython3",
   "version": "3.8.2"
  },
  "latex_envs": {
   "LaTeX_envs_menu_present": true,
   "autoclose": false,
   "autocomplete": true,
   "bibliofile": "biblio.bib",
   "cite_by": "apalike",
   "current_citInitial": 1,
   "eqLabelWithNumbers": true,
   "eqNumInitial": 1,
   "hotkeys": {
    "equation": "Ctrl-E",
    "itemize": "Ctrl-I"
   },
   "labels_anchors": false,
   "latex_user_defs": false,
   "report_style_numbering": false,
   "user_envs_cfg": false
  },
  "nbTranslate": {
   "displayLangs": [
    "*"
   ],
   "hotkey": "alt-t",
   "langInMainMenu": true,
   "sourceLang": "en",
   "targetLang": "fr",
   "useGoogleTranslate": true
  },
  "toc": {
   "base_numbering": 1,
   "nav_menu": {},
   "number_sections": true,
   "sideBar": true,
   "skip_h1_title": false,
   "title_cell": "Table of Contents",
   "title_sidebar": "Contents",
   "toc_cell": false,
   "toc_position": {},
   "toc_section_display": true,
   "toc_window_display": false
  }
 },
 "nbformat": 4,
 "nbformat_minor": 5
}
