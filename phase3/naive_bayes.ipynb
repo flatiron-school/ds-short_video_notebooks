{
 "cells": [
  {
   "cell_type": "markdown",
   "metadata": {
    "slideshow": {
     "slide_type": "slide"
    }
   },
   "source": [
    "# Naive Bayes"
   ]
  },
  {
   "cell_type": "code",
   "execution_count": 1,
   "metadata": {
    "scrolled": true,
    "slideshow": {
     "slide_type": "fragment"
    }
   },
   "outputs": [],
   "source": [
    "from seaborn import load_dataset\n",
    "from sklearn.model_selection import train_test_split\n",
    "import numpy as np\n",
    "penguins = load_dataset('penguins', usecols=['species', 'island'])"
   ]
  },
  {
   "cell_type": "code",
   "execution_count": 2,
   "metadata": {
    "slideshow": {
     "slide_type": "fragment"
    }
   },
   "outputs": [
    {
     "data": {
      "text/html": [
       "<div>\n",
       "<style scoped>\n",
       "    .dataframe tbody tr th:only-of-type {\n",
       "        vertical-align: middle;\n",
       "    }\n",
       "\n",
       "    .dataframe tbody tr th {\n",
       "        vertical-align: top;\n",
       "    }\n",
       "\n",
       "    .dataframe thead th {\n",
       "        text-align: right;\n",
       "    }\n",
       "</style>\n",
       "<table border=\"1\" class=\"dataframe\">\n",
       "  <thead>\n",
       "    <tr style=\"text-align: right;\">\n",
       "      <th></th>\n",
       "      <th>species</th>\n",
       "      <th>island</th>\n",
       "    </tr>\n",
       "  </thead>\n",
       "  <tbody>\n",
       "    <tr>\n",
       "      <th>193</th>\n",
       "      <td>Chinstrap</td>\n",
       "      <td>Dream</td>\n",
       "    </tr>\n",
       "    <tr>\n",
       "      <th>111</th>\n",
       "      <td>Adelie</td>\n",
       "      <td>Biscoe</td>\n",
       "    </tr>\n",
       "    <tr>\n",
       "      <th>108</th>\n",
       "      <td>Adelie</td>\n",
       "      <td>Biscoe</td>\n",
       "    </tr>\n",
       "    <tr>\n",
       "      <th>304</th>\n",
       "      <td>Gentoo</td>\n",
       "      <td>Biscoe</td>\n",
       "    </tr>\n",
       "    <tr>\n",
       "      <th>69</th>\n",
       "      <td>Adelie</td>\n",
       "      <td>Torgersen</td>\n",
       "    </tr>\n",
       "  </tbody>\n",
       "</table>\n",
       "</div>"
      ],
      "text/plain": [
       "       species     island\n",
       "193  Chinstrap      Dream\n",
       "111     Adelie     Biscoe\n",
       "108     Adelie     Biscoe\n",
       "304     Gentoo     Biscoe\n",
       "69      Adelie  Torgersen"
      ]
     },
     "execution_count": 2,
     "metadata": {},
     "output_type": "execute_result"
    }
   ],
   "source": [
    "penguins.sample(5)"
   ]
  },
  {
   "cell_type": "markdown",
   "metadata": {
    "slideshow": {
     "slide_type": "slide"
    }
   },
   "source": [
    "## Train-Test Split"
   ]
  },
  {
   "cell_type": "code",
   "execution_count": 3,
   "metadata": {
    "slideshow": {
     "slide_type": "fragment"
    }
   },
   "outputs": [],
   "source": [
    "train, test = train_test_split(penguins, random_state=42)"
   ]
  },
  {
   "cell_type": "markdown",
   "metadata": {
    "slideshow": {
     "slide_type": "slide"
    }
   },
   "source": [
    "## Theory"
   ]
  },
  {
   "cell_type": "markdown",
   "metadata": {
    "slideshow": {
     "slide_type": "fragment"
    }
   },
   "source": [
    "Predict species $s$ based on island $i$.\n",
    "\n",
    "Ultimately, I want to know $P(s | i)$.\n",
    "\n",
    "$\\rightarrow$ Use Bayes's Theorem!\n",
    "\n",
    "$\\large P(s | i) = \\frac{P(s)P(i | s)}{P(i)}$."
   ]
  },
  {
   "cell_type": "markdown",
   "metadata": {
    "slideshow": {
     "slide_type": "slide"
    }
   },
   "source": [
    "## Priors"
   ]
  },
  {
   "cell_type": "code",
   "execution_count": 4,
   "metadata": {
    "slideshow": {
     "slide_type": "fragment"
    }
   },
   "outputs": [
    {
     "data": {
      "text/plain": [
       "Adelie       112\n",
       "Gentoo        96\n",
       "Chinstrap     50\n",
       "Name: species, dtype: int64"
      ]
     },
     "execution_count": 4,
     "metadata": {},
     "output_type": "execute_result"
    }
   ],
   "source": [
    "vc = train['species'].value_counts()\n",
    "vc"
   ]
  },
  {
   "cell_type": "code",
   "execution_count": 5,
   "metadata": {
    "slideshow": {
     "slide_type": "fragment"
    }
   },
   "outputs": [],
   "source": [
    "prob_ad = vc['Adelie'] / vc.sum()\n",
    "prob_gt = vc['Gentoo'] / vc.sum()\n",
    "prob_cs = vc['Chinstrap'] / vc.sum()"
   ]
  },
  {
   "cell_type": "code",
   "execution_count": 6,
   "metadata": {
    "slideshow": {
     "slide_type": "slide"
    }
   },
   "outputs": [
    {
     "data": {
      "text/plain": [
       "{'Adelie': 0.43410852713178294,\n",
       " 'Gentoo': 0.37209302325581395,\n",
       " 'Chinstrap': 0.1937984496124031}"
      ]
     },
     "execution_count": 6,
     "metadata": {},
     "output_type": "execute_result"
    }
   ],
   "source": [
    "priors = dict(zip(vc.index, [prob_ad, prob_gt, prob_cs]))\n",
    "priors"
   ]
  },
  {
   "cell_type": "markdown",
   "metadata": {
    "slideshow": {
     "slide_type": "slide"
    }
   },
   "source": [
    "## Likelihoods"
   ]
  },
  {
   "cell_type": "code",
   "execution_count": 7,
   "metadata": {
    "slideshow": {
     "slide_type": "fragment"
    }
   },
   "outputs": [],
   "source": [
    "adelie = train[train['species'] == 'Adelie']\n",
    "gentoo = train[train['species'] == 'Gentoo']\n",
    "chinstrap = train[train['species'] == 'Chinstrap']"
   ]
  },
  {
   "cell_type": "code",
   "execution_count": 8,
   "metadata": {
    "slideshow": {
     "slide_type": "slide"
    }
   },
   "outputs": [
    {
     "name": "stdout",
     "output_type": "stream",
     "text": [
      " Adelie:\n",
      "Dream        43\n",
      "Torgersen    37\n",
      "Biscoe       32\n",
      "Name: island, dtype: int64\n",
      "\n",
      " Gentoo:\n",
      "Biscoe    96\n",
      "Name: island, dtype: int64\n",
      "\n",
      " Chinstrap:\n",
      "Dream    50\n",
      "Name: island, dtype: int64\n"
     ]
    }
   ],
   "source": [
    "print(' Adelie:')\n",
    "print(adelie['island'].value_counts())\n",
    "print('\\n Gentoo:')\n",
    "print(gentoo['island'].value_counts())\n",
    "print('\\n Chinstrap:')\n",
    "print(chinstrap['island'].value_counts())"
   ]
  },
  {
   "cell_type": "code",
   "execution_count": 9,
   "metadata": {
    "slideshow": {
     "slide_type": "slide"
    }
   },
   "outputs": [
    {
     "data": {
      "text/plain": [
       "{'Torgersen_given_Adelie': 0.33035714285714285,\n",
       " 'Biscoe_given_Adelie': 0.2857142857142857,\n",
       " 'Dream_given_Adelie': 0.38392857142857145,\n",
       " 'Torgersen_given_Gentoo': 0,\n",
       " 'Biscoe_given_Gentoo': 1.0,\n",
       " 'Dream_given_Gentoo': 0,\n",
       " 'Torgersen_given_Chinstrap': 0,\n",
       " 'Biscoe_given_Chinstrap': 0,\n",
       " 'Dream_given_Chinstrap': 1.0}"
      ]
     },
     "execution_count": 9,
     "metadata": {},
     "output_type": "execute_result"
    }
   ],
   "source": [
    "likelihoods = {}\n",
    "\n",
    "for species in train['species'].unique():\n",
    "    for island in train['island'].unique():\n",
    "        spec_group = train[train['species'] == species]\n",
    "        total = len(spec_group)\n",
    "        try:\n",
    "            likelihoods[f\"{island}_given_{species}\"]\\\n",
    "                = spec_group['island'].value_counts()[island] / total\n",
    "        except:\n",
    "            likelihoods[f\"{island}_given_{species}\"] = 0\n",
    "\n",
    "likelihoods"
   ]
  },
  {
   "cell_type": "markdown",
   "metadata": {
    "slideshow": {
     "slide_type": "slide"
    }
   },
   "source": [
    "## Probability of Evidence (Island)"
   ]
  },
  {
   "cell_type": "code",
   "execution_count": 10,
   "metadata": {
    "slideshow": {
     "slide_type": "fragment"
    }
   },
   "outputs": [],
   "source": [
    "scalers = {}\n",
    "\n",
    "for island in train['island'].unique():\n",
    "    scalers[island] = np.sum(\n",
    "        (priors['Adelie'] * likelihoods[f'{island}_given_Adelie'],\n",
    "        priors['Gentoo'] * likelihoods[f'{island}_given_Gentoo'],\n",
    "        priors['Chinstrap'] * likelihoods[f'{island}_given_Chinstrap'])\n",
    "    )"
   ]
  },
  {
   "cell_type": "code",
   "execution_count": 11,
   "metadata": {
    "slideshow": {
     "slide_type": "fragment"
    }
   },
   "outputs": [
    {
     "data": {
      "text/plain": [
       "{'Torgersen': 0.1434108527131783,\n",
       " 'Biscoe': 0.49612403100775193,\n",
       " 'Dream': 0.3604651162790698}"
      ]
     },
     "execution_count": 11,
     "metadata": {},
     "output_type": "execute_result"
    }
   ],
   "source": [
    "scalers"
   ]
  },
  {
   "cell_type": "markdown",
   "metadata": {
    "slideshow": {
     "slide_type": "slide"
    }
   },
   "source": [
    "## Posteriors"
   ]
  },
  {
   "cell_type": "code",
   "execution_count": 12,
   "metadata": {
    "slideshow": {
     "slide_type": "fragment"
    }
   },
   "outputs": [],
   "source": [
    "ad_given_bis =\\\n",
    "    priors['Adelie'] * likelihoods['Biscoe_given_Adelie']\n",
    "gt_given_bis =\\\n",
    "    priors['Gentoo'] * likelihoods['Biscoe_given_Gentoo']\n",
    "cs_given_bis =\\\n",
    "    priors['Chinstrap'] * likelihoods['Biscoe_given_Chinstrap']\n",
    "posts_bis =\\\n",
    "    [ad_given_bis, gt_given_bis, cs_given_bis] / scalers['Biscoe']"
   ]
  },
  {
   "cell_type": "code",
   "execution_count": 13,
   "metadata": {
    "slideshow": {
     "slide_type": "slide"
    }
   },
   "outputs": [],
   "source": [
    "ad_given_drm =\\\n",
    "    priors['Adelie'] * likelihoods['Dream_given_Adelie']\n",
    "gt_given_drm =\\\n",
    "    priors['Gentoo'] * likelihoods['Dream_given_Gentoo']\n",
    "cs_given_drm =\\\n",
    "    priors['Chinstrap'] * likelihoods['Dream_given_Chinstrap']\n",
    "posts_drm =\\\n",
    "    [ad_given_drm, gt_given_drm, cs_given_drm] / scalers['Dream']"
   ]
  },
  {
   "cell_type": "code",
   "execution_count": 14,
   "metadata": {
    "slideshow": {
     "slide_type": "fragment"
    }
   },
   "outputs": [],
   "source": [
    "ad_given_tor =\\\n",
    "    priors['Adelie'] * likelihoods['Torgersen_given_Adelie']\n",
    "gt_given_tor =\\\n",
    "    priors['Gentoo'] * likelihoods['Torgersen_given_Gentoo']\n",
    "cs_given_tor =\\\n",
    "    priors['Chinstrap'] * likelihoods['Torgersen_given_Chinstrap']\n",
    "posts_tor =\\\n",
    "    [ad_given_tor, gt_given_tor, cs_given_tor] / scalers['Torgersen']"
   ]
  },
  {
   "cell_type": "markdown",
   "metadata": {
    "slideshow": {
     "slide_type": "slide"
    }
   },
   "source": [
    "## Prediction"
   ]
  },
  {
   "cell_type": "markdown",
   "metadata": {
    "slideshow": {
     "slide_type": "slide"
    }
   },
   "source": [
    "### Input: Biscoe"
   ]
  },
  {
   "cell_type": "markdown",
   "metadata": {
    "slideshow": {
     "slide_type": "fragment"
    }
   },
   "source": [
    "Input is: Biscoe. What do we predict?\n",
    "\n",
    "Ans.: Compare\n",
    "- P(Adelie | Biscoe)\n",
    "- P(Gentoo | Biscoe)\n",
    "- P(Chinstrap | Biscoe)"
   ]
  },
  {
   "cell_type": "code",
   "execution_count": 15,
   "metadata": {
    "slideshow": {
     "slide_type": "slide"
    }
   },
   "outputs": [
    {
     "name": "stdout",
     "output_type": "stream",
     "text": [
      "probs:\n",
      "Adelie: 0.25,\n",
      "Gentoo: 0.75,\n",
      "Chinstrap: 0.0\n",
      "\n"
     ]
    }
   ],
   "source": [
    "print(f\"\"\"probs:\n",
    "Adelie: {posts_bis[0]},\n",
    "Gentoo: {posts_bis[1]},\n",
    "Chinstrap: {posts_bis[2]}\n",
    "\"\"\")"
   ]
  },
  {
   "cell_type": "markdown",
   "metadata": {
    "slideshow": {
     "slide_type": "fragment"
    }
   },
   "source": [
    "So we'll predict Gentoo!"
   ]
  },
  {
   "cell_type": "markdown",
   "metadata": {
    "slideshow": {
     "slide_type": "slide"
    }
   },
   "source": [
    "### Input: Dream"
   ]
  },
  {
   "cell_type": "markdown",
   "metadata": {
    "slideshow": {
     "slide_type": "fragment"
    }
   },
   "source": [
    "Input is: Dream. What do we predict?\n",
    "\n",
    "Ans.: Compare\n",
    "- P(Adelie | Dream),\n",
    "- P(Gentoo | Dream),\n",
    "- P(Chinstrap | Dream)"
   ]
  },
  {
   "cell_type": "code",
   "execution_count": 16,
   "metadata": {
    "slideshow": {
     "slide_type": "slide"
    }
   },
   "outputs": [
    {
     "name": "stdout",
     "output_type": "stream",
     "text": [
      "probs:\n",
      "Adelie: 0.4623655913978495,\n",
      "Gentoo: 0.0,\n",
      "Chinstrap: 0.5376344086021505\n",
      "\n"
     ]
    }
   ],
   "source": [
    "print(f\"\"\"probs:\n",
    "Adelie: {posts_drm[0]},\n",
    "Gentoo: {posts_drm[1]},\n",
    "Chinstrap: {posts_drm[2]}\n",
    "\"\"\")"
   ]
  },
  {
   "cell_type": "markdown",
   "metadata": {
    "slideshow": {
     "slide_type": "fragment"
    }
   },
   "source": [
    "So we'll predict Chinstrap!"
   ]
  },
  {
   "cell_type": "markdown",
   "metadata": {
    "slideshow": {
     "slide_type": "slide"
    }
   },
   "source": [
    "### Input: Torgersen"
   ]
  },
  {
   "cell_type": "markdown",
   "metadata": {
    "slideshow": {
     "slide_type": "fragment"
    }
   },
   "source": [
    "Input is: Torgersen. What do we predict?\n",
    "\n",
    "Ans.: Compare\n",
    "- P(Adelie | Torgersen)\n",
    "- P(Gentoo | Torgersen)\n",
    "- P(Chinstrap | Torgersen)"
   ]
  },
  {
   "cell_type": "code",
   "execution_count": 17,
   "metadata": {
    "slideshow": {
     "slide_type": "slide"
    }
   },
   "outputs": [
    {
     "name": "stdout",
     "output_type": "stream",
     "text": [
      "probs:\n",
      "Adelie: 1.0,\n",
      "Gentoo: 0.0,\n",
      "Chinstrap: 0.0\n",
      "\n"
     ]
    }
   ],
   "source": [
    "print(f\"\"\"probs:\n",
    "Adelie: {posts_tor[0]},\n",
    "Gentoo: {posts_tor[1]},\n",
    "Chinstrap: {posts_tor[2]}\n",
    "\"\"\")"
   ]
  },
  {
   "cell_type": "markdown",
   "metadata": {
    "slideshow": {
     "slide_type": "fragment"
    }
   },
   "source": [
    "So we'll predict Adelie!"
   ]
  },
  {
   "cell_type": "markdown",
   "metadata": {
    "slideshow": {
     "slide_type": "slide"
    }
   },
   "source": [
    "## Evaluate"
   ]
  },
  {
   "cell_type": "code",
   "execution_count": 18,
   "metadata": {
    "slideshow": {
     "slide_type": "fragment"
    }
   },
   "outputs": [
    {
     "name": "stdout",
     "output_type": "stream",
     "text": [
      "Training Accuracy:\n",
      "0.7093023255813954\n",
      "\n"
     ]
    }
   ],
   "source": [
    "train_copy = train.copy()\n",
    "train_copy['preds'] = train_copy['island'].map({'Biscoe': 'Gentoo',\n",
    "                                     'Dream': 'Chinstrap',\n",
    "                                     'Torgersen': 'Adelie'})\n",
    "train_copy['correct'] = train_copy['species'] == train_copy['preds']\n",
    "\n",
    "print(f\"\"\"Training Accuracy:\n",
    "{train_copy['correct'].sum() / train_copy.shape[0]}\n",
    "\"\"\")"
   ]
  },
  {
   "cell_type": "code",
   "execution_count": 19,
   "metadata": {
    "slideshow": {
     "slide_type": "slide"
    }
   },
   "outputs": [
    {
     "name": "stdout",
     "output_type": "stream",
     "text": [
      "Testing Accuracy:\n",
      "0.7093023255813954\n",
      "\n"
     ]
    }
   ],
   "source": [
    "test_copy = test.copy()\n",
    "test_copy['preds'] = test_copy['island'].map({'Biscoe': 'Gentoo',\n",
    "                                    'Dream': 'Chinstrap',\n",
    "                                    'Torgersen': 'Adelie'})\n",
    "\n",
    "test_copy['correct'] = test_copy['species'] == test_copy['preds']\n",
    "\n",
    "print(f\"\"\"Testing Accuracy:\n",
    "{test_copy['correct'].sum() / test_copy.shape[0]}\n",
    "\"\"\")"
   ]
  },
  {
   "cell_type": "markdown",
   "metadata": {
    "slideshow": {
     "slide_type": "slide"
    }
   },
   "source": [
    "## Faster Way / Verify Bayes's Theorem"
   ]
  },
  {
   "cell_type": "markdown",
   "metadata": {
    "slideshow": {
     "slide_type": "fragment"
    }
   },
   "source": [
    "Couldn't we just calculate the posteriors directly?\n",
    "\n",
    "Yes!"
   ]
  },
  {
   "cell_type": "code",
   "execution_count": 20,
   "metadata": {
    "slideshow": {
     "slide_type": "slide"
    }
   },
   "outputs": [
    {
     "data": {
      "text/plain": [
       "{'Adelie_given_Torgersen': 1.0,\n",
       " 'Gentoo_given_Torgersen': 0,\n",
       " 'Chinstrap_given_Torgersen': 0,\n",
       " 'Adelie_given_Biscoe': 0.25,\n",
       " 'Gentoo_given_Biscoe': 0.75,\n",
       " 'Chinstrap_given_Biscoe': 0,\n",
       " 'Adelie_given_Dream': 0.46236559139784944,\n",
       " 'Gentoo_given_Dream': 0,\n",
       " 'Chinstrap_given_Dream': 0.5376344086021505}"
      ]
     },
     "execution_count": 20,
     "metadata": {},
     "output_type": "execute_result"
    }
   ],
   "source": [
    "posteriors = {}\n",
    "\n",
    "for island in train['island'].unique():\n",
    "    for species in train['species'].unique():\n",
    "        isl_group = train[train['island'] == island]\n",
    "        total = len(isl_group)\n",
    "        try:\n",
    "            posteriors[f\"{species}_given_{island}\"]\\\n",
    "                = isl_group['species'].value_counts()[species] / total\n",
    "        except:\n",
    "            posteriors[f\"{species}_given_{island}\"] = 0\n",
    "\n",
    "posteriors"
   ]
  }
 ],
 "metadata": {
  "celltoolbar": "Slideshow",
  "kernelspec": {
   "display_name": "Python 3",
   "language": "python",
   "name": "python3"
  },
  "language_info": {
   "codemirror_mode": {
    "name": "ipython",
    "version": 3
   },
   "file_extension": ".py",
   "mimetype": "text/x-python",
   "name": "python",
   "nbconvert_exporter": "python",
   "pygments_lexer": "ipython3",
   "version": "3.7.2"
  }
 },
 "nbformat": 4,
 "nbformat_minor": 4
}
