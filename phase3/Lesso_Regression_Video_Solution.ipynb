{
 "cells": [
  {
   "cell_type": "code",
   "execution_count": 1,
   "id": "9cb46bb9",
   "metadata": {
    "ExecuteTime": {
     "end_time": "2021-12-06T21:13:14.989329Z",
     "start_time": "2021-12-06T21:13:13.063009Z"
    }
   },
   "outputs": [],
   "source": [
    "# Import dependencies for lasso regression\n",
    "import pandas as pd\n",
    "from sklearn.model_selection import train_test_split\n",
    "from sklearn.linear_model import Lasso, LassoCV\n",
    "from sklearn.metrics import mean_squared_error\n",
    "from sklearn.model_selection import cross_validate"
   ]
  },
  {
   "cell_type": "code",
   "execution_count": 2,
   "id": "e4319de3",
   "metadata": {
    "ExecuteTime": {
     "end_time": "2021-12-06T21:13:24.337777Z",
     "start_time": "2021-12-06T21:13:22.285963Z"
    }
   },
   "outputs": [
    {
     "data": {
      "text/html": [
       "<div>\n",
       "<style scoped>\n",
       "    .dataframe tbody tr th:only-of-type {\n",
       "        vertical-align: middle;\n",
       "    }\n",
       "\n",
       "    .dataframe tbody tr th {\n",
       "        vertical-align: top;\n",
       "    }\n",
       "\n",
       "    .dataframe thead th {\n",
       "        text-align: right;\n",
       "    }\n",
       "</style>\n",
       "<table border=\"1\" class=\"dataframe\">\n",
       "  <thead>\n",
       "    <tr style=\"text-align: right;\">\n",
       "      <th></th>\n",
       "      <th>TotalValue</th>\n",
       "      <th>LotArea</th>\n",
       "      <th>NumFloors</th>\n",
       "      <th>UnitsTotal</th>\n",
       "      <th>LotFront</th>\n",
       "      <th>LotDepth</th>\n",
       "      <th>BldgFront</th>\n",
       "      <th>BldgDepth</th>\n",
       "      <th>BuiltFAR</th>\n",
       "      <th>ResidFAR</th>\n",
       "      <th>CommFAR</th>\n",
       "    </tr>\n",
       "  </thead>\n",
       "  <tbody>\n",
       "    <tr>\n",
       "      <th>0</th>\n",
       "      <td>327600.0</td>\n",
       "      <td>769</td>\n",
       "      <td>4.5</td>\n",
       "      <td>3</td>\n",
       "      <td>19.00</td>\n",
       "      <td>53.92</td>\n",
       "      <td>19.0</td>\n",
       "      <td>54.0</td>\n",
       "      <td>5.34</td>\n",
       "      <td>10.0</td>\n",
       "      <td>15.0</td>\n",
       "    </tr>\n",
       "    <tr>\n",
       "      <th>1</th>\n",
       "      <td>943650.0</td>\n",
       "      <td>1512</td>\n",
       "      <td>5.0</td>\n",
       "      <td>7</td>\n",
       "      <td>36.17</td>\n",
       "      <td>46.67</td>\n",
       "      <td>36.0</td>\n",
       "      <td>44.0</td>\n",
       "      <td>4.94</td>\n",
       "      <td>10.0</td>\n",
       "      <td>15.0</td>\n",
       "    </tr>\n",
       "    <tr>\n",
       "      <th>2</th>\n",
       "      <td>897300.0</td>\n",
       "      <td>2180</td>\n",
       "      <td>3.0</td>\n",
       "      <td>3</td>\n",
       "      <td>34.92</td>\n",
       "      <td>69.75</td>\n",
       "      <td>34.0</td>\n",
       "      <td>69.0</td>\n",
       "      <td>2.81</td>\n",
       "      <td>10.0</td>\n",
       "      <td>15.0</td>\n",
       "    </tr>\n",
       "    <tr>\n",
       "      <th>3</th>\n",
       "      <td>914400.0</td>\n",
       "      <td>2275</td>\n",
       "      <td>4.0</td>\n",
       "      <td>3</td>\n",
       "      <td>42.17</td>\n",
       "      <td>55.25</td>\n",
       "      <td>41.0</td>\n",
       "      <td>63.0</td>\n",
       "      <td>3.57</td>\n",
       "      <td>10.0</td>\n",
       "      <td>15.0</td>\n",
       "    </tr>\n",
       "    <tr>\n",
       "      <th>4</th>\n",
       "      <td>927900.0</td>\n",
       "      <td>1885</td>\n",
       "      <td>5.5</td>\n",
       "      <td>2</td>\n",
       "      <td>29.00</td>\n",
       "      <td>66.92</td>\n",
       "      <td>29.0</td>\n",
       "      <td>66.0</td>\n",
       "      <td>4.90</td>\n",
       "      <td>10.0</td>\n",
       "      <td>15.0</td>\n",
       "    </tr>\n",
       "  </tbody>\n",
       "</table>\n",
       "</div>"
      ],
      "text/plain": [
       "   TotalValue  LotArea  NumFloors  UnitsTotal  LotFront  LotDepth  BldgFront  \\\n",
       "0    327600.0      769        4.5           3     19.00     53.92       19.0   \n",
       "1    943650.0     1512        5.0           7     36.17     46.67       36.0   \n",
       "2    897300.0     2180        3.0           3     34.92     69.75       34.0   \n",
       "3    914400.0     2275        4.0           3     42.17     55.25       41.0   \n",
       "4    927900.0     1885        5.5           2     29.00     66.92       29.0   \n",
       "\n",
       "   BldgDepth  BuiltFAR  ResidFAR  CommFAR  \n",
       "0       54.0      5.34      10.0     15.0  \n",
       "1       44.0      4.94      10.0     15.0  \n",
       "2       69.0      2.81      10.0     15.0  \n",
       "3       63.0      3.57      10.0     15.0  \n",
       "4       66.0      4.90      10.0     15.0  "
      ]
     },
     "execution_count": 2,
     "metadata": {},
     "output_type": "execute_result"
    }
   ],
   "source": [
    "# Loading data from the web into pd dataframe\n",
    "path = 'https://jaredlander.com/data/manhattan_Train.csv'\n",
    "manhattan = pd.read_csv(path)\n",
    "manhattan = manhattan[['TotalValue', 'LotArea', 'NumFloors', 'UnitsTotal',\n",
    "                       'LotFront', 'LotDepth', 'BldgFront', 'BldgDepth',\n",
    "                       'BuiltFAR', 'ResidFAR', \"CommFAR\"]]\n",
    "manhattan.head()"
   ]
  },
  {
   "cell_type": "code",
   "execution_count": 3,
   "id": "c50a9c3c",
   "metadata": {
    "ExecuteTime": {
     "end_time": "2021-12-06T21:13:51.036711Z",
     "start_time": "2021-12-06T21:13:51.026742Z"
    }
   },
   "outputs": [],
   "source": [
    "X_train, X_test, y_train, y_test = train_test_split(\n",
    "                                        manhattan.drop('TotalValue', axis=1),\n",
    "                                        manhattan['TotalValue'],\n",
    "                                        random_state=42\n",
    ")"
   ]
  },
  {
   "cell_type": "code",
   "execution_count": 4,
   "id": "37915d76",
   "metadata": {
    "ExecuteTime": {
     "end_time": "2021-12-06T21:15:56.023208Z",
     "start_time": "2021-12-06T21:15:56.020964Z"
    }
   },
   "outputs": [],
   "source": [
    "# Create the lasso regression object\n",
    "lasso = Lasso(alpha=100,\n",
    "             max_iter=500,\n",
    "             tol=1e-3,\n",
    "             random_state=800)"
   ]
  },
  {
   "cell_type": "code",
   "execution_count": 5,
   "id": "b3a02e1f",
   "metadata": {
    "ExecuteTime": {
     "end_time": "2021-12-06T21:16:13.429201Z",
     "start_time": "2021-12-06T21:16:13.405890Z"
    }
   },
   "outputs": [
    {
     "data": {
      "text/plain": [
       "Lasso(alpha=100, max_iter=500, random_state=800, tol=0.001)"
      ]
     },
     "execution_count": 5,
     "metadata": {},
     "output_type": "execute_result"
    }
   ],
   "source": [
    "# Fit the data to the model object\n",
    "lasso.fit(X_train, y_train)"
   ]
  },
  {
   "cell_type": "code",
   "execution_count": 6,
   "id": "77a3546b",
   "metadata": {
    "ExecuteTime": {
     "end_time": "2021-12-06T21:16:37.389301Z",
     "start_time": "2021-12-06T21:16:37.384048Z"
    }
   },
   "outputs": [],
   "source": [
    "# Predict with the training data\n",
    "y_hat = lasso.predict(X_train)"
   ]
  },
  {
   "cell_type": "code",
   "execution_count": 7,
   "id": "7e1e5089",
   "metadata": {
    "ExecuteTime": {
     "end_time": "2021-12-06T21:17:12.274106Z",
     "start_time": "2021-12-06T21:17:12.266230Z"
    }
   },
   "outputs": [
    {
     "data": {
      "text/plain": [
       "0.6099028999977545"
      ]
     },
     "execution_count": 7,
     "metadata": {},
     "output_type": "execute_result"
    }
   ],
   "source": [
    "# Calculate the goodness of fit of the model, R^2\n",
    "lasso.score(X_train, y_train)"
   ]
  },
  {
   "cell_type": "code",
   "execution_count": 8,
   "id": "d774c008",
   "metadata": {
    "ExecuteTime": {
     "end_time": "2021-12-06T21:17:52.754744Z",
     "start_time": "2021-12-06T21:17:52.750593Z"
    }
   },
   "outputs": [
    {
     "data": {
      "text/plain": [
       "4020142919299.2637"
      ]
     },
     "execution_count": 8,
     "metadata": {},
     "output_type": "execute_result"
    }
   ],
   "source": [
    "# Calculate the mean squared error of the model\n",
    "mean_squared_error(y_hat, y_train)"
   ]
  },
  {
   "cell_type": "code",
   "execution_count": 10,
   "id": "e8947b34",
   "metadata": {
    "ExecuteTime": {
     "end_time": "2021-12-06T21:19:59.893670Z",
     "start_time": "2021-12-06T21:19:59.765727Z"
    }
   },
   "outputs": [],
   "source": [
    "# Calculate the cross-validation R^2 and mse\n",
    "cv = cross_validate(estimator=lasso, X=X_train, y=y_train, cv=8,\n",
    "                   scoring=('r2', 'neg_mean_squared_error'),\n",
    "                   return_train_score=True)"
   ]
  },
  {
   "cell_type": "code",
   "execution_count": 11,
   "id": "05d793f4",
   "metadata": {
    "ExecuteTime": {
     "end_time": "2021-12-06T21:20:18.073800Z",
     "start_time": "2021-12-06T21:20:18.069704Z"
    }
   },
   "outputs": [
    {
     "data": {
      "text/plain": [
       "array([0.60520274, 0.60748689, 0.61442403, 0.60937997, 0.60745066,\n",
       "       0.60670995, 0.61431741, 0.61786227])"
      ]
     },
     "execution_count": 11,
     "metadata": {},
     "output_type": "execute_result"
    }
   ],
   "source": [
    "# Check the CV train R^2\n",
    "cv['train_r2']"
   ]
  },
  {
   "cell_type": "code",
   "execution_count": 12,
   "id": "0923fcab",
   "metadata": {
    "ExecuteTime": {
     "end_time": "2021-12-06T21:20:33.491000Z",
     "start_time": "2021-12-06T21:20:33.487367Z"
    }
   },
   "outputs": [
    {
     "data": {
      "text/plain": [
       "array([0.64219354, 0.62696012, 0.57229938, 0.6074151 , 0.62461146,\n",
       "       0.6293562 , 0.57115546, 0.55314649])"
      ]
     },
     "execution_count": 12,
     "metadata": {},
     "output_type": "execute_result"
    }
   ],
   "source": [
    "# Check the CV test R^2\n",
    "cv['test_r2']"
   ]
  },
  {
   "cell_type": "code",
   "execution_count": 13,
   "id": "c174e66b",
   "metadata": {
    "ExecuteTime": {
     "end_time": "2021-12-06T21:22:11.694453Z",
     "start_time": "2021-12-06T21:22:11.692113Z"
    }
   },
   "outputs": [],
   "source": [
    "# Create the regularized regression with cross-validation\n",
    "lasso_cv = LassoCV(cv=8)"
   ]
  },
  {
   "cell_type": "code",
   "execution_count": 14,
   "id": "6bbea27b",
   "metadata": {
    "ExecuteTime": {
     "end_time": "2021-12-06T21:22:24.696669Z",
     "start_time": "2021-12-06T21:22:24.508460Z"
    }
   },
   "outputs": [
    {
     "data": {
      "text/plain": [
       "LassoCV(cv=8)"
      ]
     },
     "execution_count": 14,
     "metadata": {},
     "output_type": "execute_result"
    }
   ],
   "source": [
    "# Fit the training the data with the model\n",
    "lasso_cv.fit(X_train, y_train)"
   ]
  },
  {
   "cell_type": "code",
   "execution_count": 15,
   "id": "11bbf174",
   "metadata": {
    "ExecuteTime": {
     "end_time": "2021-12-06T21:22:43.329771Z",
     "start_time": "2021-12-06T21:22:43.322721Z"
    }
   },
   "outputs": [
    {
     "data": {
      "text/plain": [
       "0.34826575824229056"
      ]
     },
     "execution_count": 15,
     "metadata": {},
     "output_type": "execute_result"
    }
   ],
   "source": [
    "# Calculate the goodness of fit of the model, R^2\n",
    "lasso_cv.score(X_train, y_train)"
   ]
  },
  {
   "cell_type": "code",
   "execution_count": 16,
   "id": "26899a23",
   "metadata": {
    "ExecuteTime": {
     "end_time": "2021-12-06T21:23:24.786699Z",
     "start_time": "2021-12-06T21:23:24.780064Z"
    }
   },
   "outputs": [
    {
     "data": {
      "text/plain": [
       "6716442642747.276"
      ]
     },
     "execution_count": 16,
     "metadata": {},
     "output_type": "execute_result"
    }
   ],
   "source": [
    "# Calculate the mean squared error of the model\n",
    "mean_squared_error(y_train, lasso_cv.predict(X_train))"
   ]
  },
  {
   "cell_type": "code",
   "execution_count": null,
   "id": "678a38dc",
   "metadata": {},
   "outputs": [],
   "source": []
  }
 ],
 "metadata": {
  "hide_input": false,
  "kernelspec": {
   "display_name": "Python 3",
   "language": "python",
   "name": "python3"
  },
  "language_info": {
   "codemirror_mode": {
    "name": "ipython",
    "version": 3
   },
   "file_extension": ".py",
   "mimetype": "text/x-python",
   "name": "python",
   "nbconvert_exporter": "python",
   "pygments_lexer": "ipython3",
   "version": "3.8.2"
  },
  "latex_envs": {
   "LaTeX_envs_menu_present": true,
   "autoclose": false,
   "autocomplete": true,
   "bibliofile": "biblio.bib",
   "cite_by": "apalike",
   "current_citInitial": 1,
   "eqLabelWithNumbers": true,
   "eqNumInitial": 1,
   "hotkeys": {
    "equation": "Ctrl-E",
    "itemize": "Ctrl-I"
   },
   "labels_anchors": false,
   "latex_user_defs": false,
   "report_style_numbering": false,
   "user_envs_cfg": false
  },
  "nbTranslate": {
   "displayLangs": [
    "*"
   ],
   "hotkey": "alt-t",
   "langInMainMenu": true,
   "sourceLang": "en",
   "targetLang": "fr",
   "useGoogleTranslate": true
  },
  "toc": {
   "base_numbering": 1,
   "nav_menu": {},
   "number_sections": true,
   "sideBar": true,
   "skip_h1_title": false,
   "title_cell": "Table of Contents",
   "title_sidebar": "Contents",
   "toc_cell": false,
   "toc_position": {},
   "toc_section_display": true,
   "toc_window_display": false
  }
 },
 "nbformat": 4,
 "nbformat_minor": 5
}
