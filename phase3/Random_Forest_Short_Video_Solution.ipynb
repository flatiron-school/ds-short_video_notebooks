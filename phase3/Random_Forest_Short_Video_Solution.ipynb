{
 "cells": [
  {
   "cell_type": "code",
   "execution_count": null,
   "id": "3d904c77",
   "metadata": {
    "ExecuteTime": {
     "end_time": "2022-01-31T04:49:35.890421Z",
     "start_time": "2022-01-31T04:49:34.744212Z"
    }
   },
   "outputs": [],
   "source": [
    "# Import dependencies for random forest\n",
    "from sklearn.ensemble import RandomForestClassifier\n",
    "from sklearn.model_selection import train_test_split, cross_val_score\n",
    "from sklearn.metrics import accuracy_score, plot_confusion_matrix\n",
    "from sklearn.datasets import load_iris"
   ]
  },
  {
   "cell_type": "code",
   "execution_count": null,
   "id": "3607bdb6",
   "metadata": {
    "ExecuteTime": {
     "end_time": "2022-01-31T04:49:37.004645Z",
     "start_time": "2022-01-31T04:49:36.992247Z"
    }
   },
   "outputs": [],
   "source": [
    "# Loading the iris dataset from sklearn datasets module\n",
    "iris = load_iris()\n",
    "names = iris.feature_names\n",
    "X = iris.data\n",
    "y = iris.target \n",
    "X_train, X_test, y_train, y_test = train_test_split(X, y, test_size=0.2, random_state=2)\n",
    "X_train.shape, X_test.shape\n"
   ]
  },
  {
   "cell_type": "code",
   "execution_count": null,
   "id": "103f58c9",
   "metadata": {
    "ExecuteTime": {
     "end_time": "2022-01-31T04:49:39.039413Z",
     "start_time": "2022-01-31T04:49:39.036640Z"
    }
   },
   "outputs": [],
   "source": [
    "# Setting the hyperparameters for the random forest classifier\n",
    "num_tree = 100\n",
    "criterion = 'gini'\n",
    "max_depth = 2\n",
    "min_sample_sample = 10\n",
    "min_sample_leaf = 15\n",
    "features = 'sqrt'\n",
    "seed = 12345\n"
   ]
  },
  {
   "cell_type": "code",
   "execution_count": null,
   "id": "160fd36c",
   "metadata": {
    "ExecuteTime": {
     "end_time": "2022-01-31T04:50:01.152066Z",
     "start_time": "2022-01-31T04:50:01.149195Z"
    }
   },
   "outputs": [],
   "source": [
    "# Create the RandomForestClassifier object\n",
    "rfc = RandomForestClassifier(n_estimators = num_tree,\n",
    "                             criterion = criterion,\n",
    "                             max_depth = max_depth,\n",
    "                             min_samples_split = min_sample_sample,\n",
    "                             min_samples_leaf = min_sample_leaf,\n",
    "                             max_features = features,\n",
    "                             oob_score = True,\n",
    "                             random_state = seed)\n"
   ]
  },
  {
   "cell_type": "code",
   "execution_count": null,
   "id": "5b024356",
   "metadata": {
    "ExecuteTime": {
     "end_time": "2022-01-31T04:50:03.234493Z",
     "start_time": "2022-01-31T04:50:03.107215Z"
    }
   },
   "outputs": [],
   "source": [
    "# Fit the training data to the classifier\n",
    "rfc.fit(X_train, y_train)"
   ]
  },
  {
   "cell_type": "code",
   "execution_count": null,
   "id": "5da1b039",
   "metadata": {
    "ExecuteTime": {
     "end_time": "2022-01-31T04:50:05.972955Z",
     "start_time": "2022-01-31T04:50:05.969490Z"
    }
   },
   "outputs": [],
   "source": [
    "# OOB Score\n",
    "rfc.oob_score_"
   ]
  },
  {
   "cell_type": "code",
   "execution_count": null,
   "id": "6a57d273",
   "metadata": {
    "ExecuteTime": {
     "end_time": "2022-01-31T04:50:22.845791Z",
     "start_time": "2022-01-31T04:50:22.277029Z"
    }
   },
   "outputs": [],
   "source": [
    "# 5-fold Cross-Validate Score\n",
    "cross_val_score(estimator=rfc,\n",
    "                            X=X_train,\n",
    "                            y=y_train,\n",
    "                            cv=5)"
   ]
  },
  {
   "cell_type": "code",
   "execution_count": null,
   "id": "55e49607",
   "metadata": {
    "ExecuteTime": {
     "end_time": "2022-01-31T04:51:23.570079Z",
     "start_time": "2022-01-31T04:51:23.555620Z"
    }
   },
   "outputs": [],
   "source": [
    "# Checking the feature importances coefficients\n",
    "rfc.feature_importances_"
   ]
  },
  {
   "cell_type": "code",
   "execution_count": null,
   "id": "aec8eba9",
   "metadata": {
    "ExecuteTime": {
     "end_time": "2022-01-31T04:51:50.846226Z",
     "start_time": "2022-01-31T04:51:50.830588Z"
    }
   },
   "outputs": [],
   "source": [
    "# Predict the target class with the testing dataset\n",
    "pred = rfc.predict(X_test)\n",
    "pred"
   ]
  },
  {
   "cell_type": "code",
   "execution_count": null,
   "id": "18c727cf",
   "metadata": {
    "ExecuteTime": {
     "end_time": "2022-01-31T04:51:53.843181Z",
     "start_time": "2022-01-31T04:51:53.827176Z"
    }
   },
   "outputs": [],
   "source": [
    "# Accuracy Score for testing dataset\n",
    "rfc.score(X_test, y_test)"
   ]
  },
  {
   "cell_type": "code",
   "execution_count": null,
   "id": "ae0593cf",
   "metadata": {},
   "outputs": [],
   "source": []
  }
 ],
 "metadata": {
  "hide_input": false,
  "kernelspec": {
   "display_name": "Python 3",
   "language": "python",
   "name": "python3"
  },
  "language_info": {
   "codemirror_mode": {
    "name": "ipython",
    "version": 3
   },
   "file_extension": ".py",
   "mimetype": "text/x-python",
   "name": "python",
   "nbconvert_exporter": "python",
   "pygments_lexer": "ipython3",
   "version": "3.8.2"
  },
  "latex_envs": {
   "LaTeX_envs_menu_present": true,
   "autoclose": false,
   "autocomplete": true,
   "bibliofile": "biblio.bib",
   "cite_by": "apalike",
   "current_citInitial": 1,
   "eqLabelWithNumbers": true,
   "eqNumInitial": 1,
   "hotkeys": {
    "equation": "Ctrl-E",
    "itemize": "Ctrl-I"
   },
   "labels_anchors": false,
   "latex_user_defs": false,
   "report_style_numbering": false,
   "user_envs_cfg": false
  },
  "nbTranslate": {
   "displayLangs": [
    "*"
   ],
   "hotkey": "alt-t",
   "langInMainMenu": true,
   "sourceLang": "en",
   "targetLang": "fr",
   "useGoogleTranslate": true
  },
  "toc": {
   "base_numbering": 1,
   "nav_menu": {},
   "number_sections": true,
   "sideBar": true,
   "skip_h1_title": false,
   "title_cell": "Table of Contents",
   "title_sidebar": "Contents",
   "toc_cell": false,
   "toc_position": {},
   "toc_section_display": true,
   "toc_window_display": false
  }
 },
 "nbformat": 4,
 "nbformat_minor": 5
}
