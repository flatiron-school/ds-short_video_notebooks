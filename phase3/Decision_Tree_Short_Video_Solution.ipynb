{
 "cells": [
  {
   "cell_type": "code",
   "execution_count": null,
   "id": "be03edb7",
   "metadata": {
    "ExecuteTime": {
     "end_time": "2022-01-31T04:34:13.917600Z",
     "start_time": "2022-01-31T04:34:13.914435Z"
    }
   },
   "outputs": [],
   "source": [
    "# Import dependencies for Decision Tree\n",
    "from sklearn import tree\n",
    "from sklearn.model_selection import train_test_split\n",
    "from sklearn.metrics import accuracy_score, plot_confusion_matrix\n",
    "from sklearn.datasets import load_iris\n",
    "from sklearn.model_selection import cross_val_score\n",
    "import matplotlib.pyplot as plt"
   ]
  },
  {
   "cell_type": "code",
   "execution_count": null,
   "id": "30a282c9",
   "metadata": {
    "ExecuteTime": {
     "end_time": "2022-01-31T04:30:56.512712Z",
     "start_time": "2022-01-31T04:30:56.505466Z"
    }
   },
   "outputs": [],
   "source": [
    "# Loading the iris dataset from sklearn datasets module\n",
    "iris = load_iris()\n",
    "names = iris.feature_names\n",
    "X = iris.data\n",
    "y = iris.target \n",
    "X_train, X_test, y_train, y_test = train_test_split(X, y, test_size=0.2, random_state=2)\n",
    "X_train.shape, X_test.shape\n"
   ]
  },
  {
   "cell_type": "code",
   "execution_count": null,
   "id": "eb76cc62",
   "metadata": {
    "ExecuteTime": {
     "end_time": "2022-01-31T04:29:55.156874Z",
     "start_time": "2022-01-31T04:29:55.150259Z"
    }
   },
   "outputs": [],
   "source": [
    "# Create the tree classifier\n",
    "clf = tree.DecisionTreeClassifier()\n",
    "\n",
    "# Fit the training data to the classifier\n",
    "clf.fit(X_train, y_train)\n"
   ]
  },
  {
   "cell_type": "code",
   "execution_count": null,
   "id": "0e93c74c",
   "metadata": {
    "ExecuteTime": {
     "end_time": "2022-01-31T04:31:06.804255Z",
     "start_time": "2022-01-31T04:31:06.402278Z"
    }
   },
   "outputs": [],
   "source": [
    "# Plotting the decision tree\n",
    "f, ax = plt.subplots(figsize=(10,10))\n",
    "tree.plot_tree(clf, feature_names=names,\n",
    "               filled=True, ax=ax)\n"
   ]
  },
  {
   "cell_type": "code",
   "execution_count": null,
   "id": "fd84c56c",
   "metadata": {
    "ExecuteTime": {
     "end_time": "2022-01-31T04:34:57.417224Z",
     "start_time": "2022-01-31T04:34:57.404128Z"
    }
   },
   "outputs": [],
   "source": [
    "# 5-fold Cross Validation Score (accuracy)\n",
    "cross_val_score(clf, X_train, y_train, cv=5)\n"
   ]
  },
  {
   "cell_type": "code",
   "execution_count": null,
   "id": "9111e328",
   "metadata": {
    "ExecuteTime": {
     "end_time": "2022-01-31T04:35:05.445747Z",
     "start_time": "2022-01-31T04:35:05.440563Z"
    }
   },
   "outputs": [],
   "source": [
    "# Checking the feature importances coefficients\n",
    "clf.feature_importances_\n"
   ]
  },
  {
   "cell_type": "code",
   "execution_count": null,
   "id": "e92dcf2e",
   "metadata": {
    "ExecuteTime": {
     "end_time": "2022-01-31T04:35:08.605175Z",
     "start_time": "2022-01-31T04:35:08.601287Z"
    }
   },
   "outputs": [],
   "source": [
    "# Make prediction of the class based on the testing set\n",
    "pred = clf.predict(X_test)\n",
    "pred"
   ]
  },
  {
   "cell_type": "code",
   "execution_count": null,
   "id": "56a9f196",
   "metadata": {},
   "outputs": [],
   "source": [
    "# Accuracy score for the testing set\n",
    "accuracy_score(y_test, y_pred)\n"
   ]
  },
  {
   "cell_type": "code",
   "execution_count": null,
   "id": "f16165d1",
   "metadata": {
    "ExecuteTime": {
     "end_time": "2022-01-31T04:35:11.154874Z",
     "start_time": "2022-01-31T04:35:10.991356Z"
    }
   },
   "outputs": [],
   "source": [
    "# Plotting the confusion matrix for the testing set\n",
    "plot_confusion_matrix(clf, X_test, y_test)\n"
   ]
  },
  {
   "cell_type": "code",
   "execution_count": null,
   "id": "4d39ef4a",
   "metadata": {},
   "outputs": [],
   "source": [
    "# Tunning hyperparameters\n",
    "clf = tree.DecisionTreeClassifier(criterion =  ,\n",
    "                                 min_sample_leaf =  ,\n",
    "                                 max_leaf_nodes =  ,\n",
    "                                 max_depth =  ,\n",
    "                                 min_impurity_split =  )\n",
    "\n",
    "# Fit the training data to the classifier\n",
    "clf.fit(X_train, y_train)"
   ]
  },
  {
   "cell_type": "code",
   "execution_count": null,
   "id": "187d3ac7",
   "metadata": {},
   "outputs": [],
   "source": [
    "# 5-fold Cross Validation Score (accuracy)\n",
    "cross_val_score(clf, X_train, y_train, cv=5)"
   ]
  }
 ],
 "metadata": {
  "hide_input": false,
  "kernelspec": {
   "display_name": "Python 3",
   "language": "python",
   "name": "python3"
  },
  "language_info": {
   "codemirror_mode": {
    "name": "ipython",
    "version": 3
   },
   "file_extension": ".py",
   "mimetype": "text/x-python",
   "name": "python",
   "nbconvert_exporter": "python",
   "pygments_lexer": "ipython3",
   "version": "3.8.2"
  },
  "latex_envs": {
   "LaTeX_envs_menu_present": true,
   "autoclose": false,
   "autocomplete": true,
   "bibliofile": "biblio.bib",
   "cite_by": "apalike",
   "current_citInitial": 1,
   "eqLabelWithNumbers": true,
   "eqNumInitial": 1,
   "hotkeys": {
    "equation": "Ctrl-E",
    "itemize": "Ctrl-I"
   },
   "labels_anchors": false,
   "latex_user_defs": false,
   "report_style_numbering": false,
   "user_envs_cfg": false
  },
  "nbTranslate": {
   "displayLangs": [
    "*"
   ],
   "hotkey": "alt-t",
   "langInMainMenu": true,
   "sourceLang": "en",
   "targetLang": "fr",
   "useGoogleTranslate": true
  },
  "toc": {
   "base_numbering": 1,
   "nav_menu": {},
   "number_sections": true,
   "sideBar": true,
   "skip_h1_title": false,
   "title_cell": "Table of Contents",
   "title_sidebar": "Contents",
   "toc_cell": false,
   "toc_position": {},
   "toc_section_display": true,
   "toc_window_display": false
  }
 },
 "nbformat": 4,
 "nbformat_minor": 5
}
